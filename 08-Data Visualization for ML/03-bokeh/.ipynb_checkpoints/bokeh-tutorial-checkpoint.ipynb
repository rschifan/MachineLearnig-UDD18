{
 "cells": [
  {
   "cell_type": "markdown",
   "metadata": {},
   "source": [
    "# Creating Interactive Visualizations with Bokeh"
   ]
  },
  {
   "cell_type": "markdown",
   "metadata": {},
   "source": [
    "[Bokeh](http://bokeh.pydata.org) is a Python package for creating interactive, browser-based visualizations, and is well-suited for \"big data\" applications.\n",
    "\n",
    "* Bindings can (and have) been created for other languages.\n",
    "\n",
    "\n",
    "\n",
    "Bokeh allows users to create interactive html visualizations without using JS.\n",
    "\n",
    "Bokeh is a **language-based** visualization system. This allows for:\n",
    "\n",
    "* high-level commands for data binding, transformation, interaction\n",
    "* low-level power to deeply customize\n",
    "\n",
    "Bokeh philosophy: \n",
    "\n",
    "> Make a smart choice when it is possible to do so automatically, and expose low-level capabilities when it is not."
   ]
  },
  {
   "cell_type": "markdown",
   "metadata": {},
   "source": [
    "# How does Bokeh work?\n",
    "\n",
    "Bokeh writes to a custom-built HTML5 Canvas library, which affords it high performance. This allows it to integrate with other web tools, such as Google Maps.\n",
    "\n",
    "Bokeh plots are based on visual elements called **glyphs** that are bound to data objects."
   ]
  },
  {
   "cell_type": "markdown",
   "metadata": {},
   "source": [
    "## Installation\n",
    "\n",
    "Bokeh can be installed easily either via `pip` or `conda` (if using Anaconda):\n",
    "\n",
    "    pip install bokeh\n",
    "    \n",
    "    conda install bokeh"
   ]
  },
  {
   "cell_type": "markdown",
   "metadata": {},
   "source": [
    "## A Simple Example\n",
    "\n",
    "First we'll import the bokeh.plotting module, which defines the graphical functions and primitives."
   ]
  },
  {
   "cell_type": "code",
   "execution_count": null,
   "metadata": {},
   "outputs": [],
   "source": [
    "import bokeh.plotting as bk"
   ]
  },
  {
   "cell_type": "markdown",
   "metadata": {},
   "source": [
    "Next, we'll tell Bokeh to display its plots directly into the notebook. This will cause all of the Javascript and data to be embedded directly into the HTML of the notebook itself. (Bokeh can output straight to HTML files, or use a server, which we'll look at later.)"
   ]
  },
  {
   "cell_type": "code",
   "execution_count": null,
   "metadata": {},
   "outputs": [],
   "source": [
    "bk.output_notebook()"
   ]
  },
  {
   "cell_type": "markdown",
   "metadata": {},
   "source": [
    "Next, we'll import NumPy and create some simple data."
   ]
  },
  {
   "cell_type": "code",
   "execution_count": null,
   "metadata": {},
   "outputs": [],
   "source": [
    "import numpy as np\n",
    "\n",
    "x = np.linspace(-6, 6, 100)\n",
    "y = np.random.normal(0.3*x, 1)"
   ]
  },
  {
   "cell_type": "markdown",
   "metadata": {},
   "source": [
    "Now we'll call Bokeh's `circle()` function to render a red circle at\n",
    "each of the points in x and y.\n",
    "\n",
    "We can immediately interact with the plot:\n",
    "\n",
    "  * click-and-drag will pan the plot around.\n",
    "  * Shift + mousewheel will zoom in and out\n"
   ]
  },
  {
   "cell_type": "code",
   "execution_count": null,
   "metadata": {},
   "outputs": [],
   "source": [
    "fig = bk.figure(plot_width=500, plot_height=500)\n",
    "fig.circle(x, y, color=\"red\")\n",
    "bk.show(fig)"
   ]
  },
  {
   "cell_type": "markdown",
   "metadata": {},
   "source": [
    "# Statistical Plots\n",
    "\n",
    "Let's try plotting multiple series on the same axes.\n",
    "\n",
    "First, we generate some data from an exponential distribution with mean $\\theta=1$."
   ]
  },
  {
   "cell_type": "code",
   "execution_count": null,
   "metadata": {},
   "outputs": [],
   "source": [
    "from scipy.stats import expon\n",
    "\n",
    "theta = 1\n",
    "\n",
    "measured = np.random.exponential(theta, 1000)\n",
    "hist, edges = np.histogram(measured, density=True, bins=50)"
   ]
  },
  {
   "cell_type": "markdown",
   "metadata": {},
   "source": [
    "Next, create our figure, which is not displayed until we ask Bokeh to do so explicitly. We will customize the intractive toolbar, as well as customize the background color."
   ]
  },
  {
   "cell_type": "code",
   "execution_count": null,
   "metadata": {},
   "outputs": [],
   "source": [
    "fig = bk.figure(title=\"Exponential Distribution (θ=1)\",tools=\"previewsave\")"
   ]
  },
  {
   "cell_type": "markdown",
   "metadata": {},
   "source": [
    "The quad glyph displays axis-aligned rectangles with the given attributes."
   ]
  },
  {
   "cell_type": "code",
   "execution_count": null,
   "metadata": {},
   "outputs": [],
   "source": [
    "fig.quad(top=hist, bottom=0, left=edges[:-1], right=edges[1:], fill_color=\"#036564\", line_color=\"#033649\")"
   ]
  },
  {
   "cell_type": "markdown",
   "metadata": {},
   "source": [
    "Next, add lines showing the form of the probability distribution function (PDF) and cumulative distribution function (CDF)."
   ]
  },
  {
   "cell_type": "code",
   "execution_count": null,
   "metadata": {},
   "outputs": [],
   "source": [
    "x = np.linspace(0, 10, 1000)\n",
    "fig.line(x, expon.pdf(x, scale=1), line_color=\"#D95B43\", line_width=8, alpha=0.7, legend=\"PDF\")\n",
    "fig.line(x, expon.cdf(x, scale=1), line_color=\"white\", line_width=2, alpha=0.7, legend=\"CDF\")"
   ]
  },
  {
   "cell_type": "markdown",
   "metadata": {},
   "source": [
    "Finally, add a legend before releasing the hold and displaying the complete plot."
   ]
  },
  {
   "cell_type": "code",
   "execution_count": null,
   "metadata": {},
   "outputs": [],
   "source": [
    "fig.legend.location = \"top_right\"\n",
    "\n",
    "bk.show(fig)"
   ]
  },
  {
   "cell_type": "markdown",
   "metadata": {},
   "source": [
    "## Bar Plot Example\n",
    "\n",
    "Bokeh's core display model relies on *composing graphical primitives* which are bound to data series. A more sophisticated example demonstrates this idea.\n",
    "\n",
    "Bokeh ships with a small set of interesting \"sample data\" in the `bokeh.sampledata` package.  We'll load up some historical automobile fuel efficiency data, which is returned as a [Pandas](http://pandas.pydata.org) `DataFrame`."
   ]
  },
  {
   "cell_type": "code",
   "execution_count": null,
   "metadata": {},
   "outputs": [],
   "source": [
    "from bokeh.sampledata.autompg import autompg"
   ]
  },
  {
   "cell_type": "markdown",
   "metadata": {},
   "source": [
    "We first need to reshape the data, by grouping it according to the year of the car, and then by the country of origin (here, USA or Japan)."
   ]
  },
  {
   "cell_type": "code",
   "execution_count": null,
   "metadata": {},
   "outputs": [],
   "source": [
    "grouped = autompg.groupby(\"yr\")\n",
    "mpg = grouped[\"mpg\"]\n",
    "mpg_avg = mpg.mean()\n",
    "mpg_std = mpg.std()\n",
    "years = np.asarray(list(grouped.groups.keys()))\n",
    "american = autompg[autompg[\"origin\"]==1]\n",
    "japanese = autompg[autompg[\"origin\"]==3]\n",
    "\n",
    "american.head(10)"
   ]
  },
  {
   "cell_type": "markdown",
   "metadata": {},
   "source": [
    "![Fury](https://c1.staticflickr.com/5/4022/4312399177_4f39f17a4b_z.jpg?zz=1)\n",
    "\n",
    "For each year, we want to plot the distribution of MPG within that year. As a guide, we will include a box that represents the mean efficiency, plus and minus one standard deviation. We will make these boxes partly transparent."
   ]
  },
  {
   "cell_type": "code",
   "execution_count": null,
   "metadata": {},
   "outputs": [],
   "source": [
    "fig = bk.figure(title='Automobile mileage by year and country')\n",
    "\n",
    "fig.quad(left=years-0.4, right=years+0.4, bottom=mpg_avg-mpg_std, top=mpg_avg+mpg_std, fill_alpha=0.4)"
   ]
  },
  {
   "cell_type": "markdown",
   "metadata": {},
   "source": [
    "Next, we overplot the actual data points, using contrasting symbols for American and Japanese cars."
   ]
  },
  {
   "cell_type": "code",
   "execution_count": null,
   "metadata": {},
   "outputs": [],
   "source": [
    "# Add Japanese cars as circles\n",
    "fig.circle(x=np.asarray(japanese[\"yr\"]), \n",
    "       y=np.asarray(japanese[\"mpg\"]), \n",
    "       size=8, alpha=0.4, line_color=\"red\", fill_color=None, line_width=2)\n",
    "\n",
    "# Add American cars as triangles\n",
    "fig.triangle(x=np.asarray(american[\"yr\"]), \n",
    "         y=np.asarray(american[\"mpg\"]),\n",
    "         size=8, alpha=0.4, line_color=\"blue\", fill_color=None, line_width=2)"
   ]
  },
  {
   "cell_type": "markdown",
   "metadata": {},
   "source": [
    "We can add axis labels by binding them to the `axis_label` attribute of each axis."
   ]
  },
  {
   "cell_type": "code",
   "execution_count": null,
   "metadata": {},
   "outputs": [],
   "source": [
    "fig.xaxis.axis_label = 'Year'\n",
    "fig.yaxis.axis_label = 'MPG'"
   ]
  },
  {
   "cell_type": "code",
   "execution_count": null,
   "metadata": {},
   "outputs": [],
   "source": [
    "bk.show(fig)"
   ]
  },
  {
   "cell_type": "markdown",
   "metadata": {},
   "source": [
    "## Linked Brushing\n",
    "\n",
    "To link plots together at a data level, we can explicitly wrap the data in a ColumnDataSource. This allows us to reference columns by name."
   ]
  },
  {
   "cell_type": "code",
   "execution_count": null,
   "metadata": {},
   "outputs": [],
   "source": [
    "variables = autompg.to_dict(\"list\")\n",
    "variables.update({'yr':autompg[\"yr\"]})\n",
    "source = bk.ColumnDataSource(variables)"
   ]
  },
  {
   "cell_type": "markdown",
   "metadata": {},
   "source": [
    "The `gridplot` function takes a 2-dimensional list containing elements to be arranged in a grid on the same canvas."
   ]
  },
  {
   "cell_type": "code",
   "execution_count": null,
   "metadata": {},
   "outputs": [],
   "source": [
    "plot_config = dict(plot_width=300, plot_height=300, tools=\"box_select,lasso_select,help\")\n",
    "\n",
    "left = bk.figure(title=\"MPG by Year\", **plot_config)\n",
    "left.circle(\"yr\", \"mpg\", color=\"blue\", source=source)\n",
    "\n",
    "center = bk.figure(title=\"HP vs. Displacement\", **plot_config)\n",
    "center.circle(\"hp\", \"displ\", color=\"green\", source=source)\n",
    "\n",
    "right = bk.figure(title=\"MPG vs. Displacement\", **plot_config)\n",
    "right.circle(\"mpg\", \"displ\", size=\"cyl\", line_color=\"red\", source=source)"
   ]
  },
  {
   "cell_type": "markdown",
   "metadata": {},
   "source": [
    "We can use the `select` tool to select points on one plot, and the linked points on the other plots will *automagically* highlight."
   ]
  },
  {
   "cell_type": "code",
   "execution_count": null,
   "metadata": {},
   "outputs": [],
   "source": [
    "p = bk.gridplot([[left, center, right]])\n",
    "bk.show(p)"
   ]
  },
  {
   "cell_type": "markdown",
   "metadata": {},
   "source": [
    "## Visualization of US unemployment rates\n",
    "\n",
    "Our first example of an interactive chart involves generating a heat map of US unemployment rates by month and year. This plot will be made interactive by invoking a `HoverTool` that displays information as the pointer hovers over any cell within the plot."
   ]
  },
  {
   "cell_type": "markdown",
   "metadata": {},
   "source": [
    "First, we import the data with Pandas and manipulate it as needed."
   ]
  },
  {
   "cell_type": "code",
   "execution_count": null,
   "metadata": {},
   "outputs": [],
   "source": [
    "import pandas as pd\n",
    "from bokeh.models import HoverTool\n",
    "from bokeh.sampledata.unemployment1948 import data\n",
    "from collections import OrderedDict\n",
    "\n",
    "data['Year'] = [str(x) for x in data['Year']]\n",
    "years = list(data['Year'])\n",
    "months = [\"Jan\",\"Feb\",\"Mar\",\"Apr\",\"May\",\"Jun\",\"Jul\",\"Aug\",\"Sep\",\"Oct\",\"Nov\",\"Dec\"]\n",
    "data = data.set_index('Year')"
   ]
  },
  {
   "cell_type": "markdown",
   "metadata": {},
   "source": [
    "Specify a color map (where do we get color maps, you ask? -- Try [Color Brewer](http://colorbrewer2.org))"
   ]
  },
  {
   "cell_type": "code",
   "execution_count": null,
   "metadata": {},
   "outputs": [],
   "source": [
    "colors = [\n",
    "    \"#75968f\", \"#a5bab7\", \"#c9d9d3\", \"#e2e2e2\", \"#dfccce\",\n",
    "    \"#ddb7b1\", \"#cc7878\", \"#933b41\", \"#550b1d\"\n",
    "]"
   ]
  },
  {
   "cell_type": "markdown",
   "metadata": {},
   "source": [
    "Set up the data for plotting. We will need to have values for every pair of year/month names. Map the rate to a color."
   ]
  },
  {
   "cell_type": "code",
   "execution_count": null,
   "metadata": {},
   "outputs": [],
   "source": [
    "month = []\n",
    "year = []\n",
    "color = []\n",
    "rate = []\n",
    "for y in years:\n",
    "    for m in months:\n",
    "        month.append(m)\n",
    "        year.append(y)\n",
    "        monthly_rate = data[m][y]\n",
    "        rate.append(monthly_rate)\n",
    "        color.append(colors[min(int(monthly_rate)-2, 8)])"
   ]
  },
  {
   "cell_type": "markdown",
   "metadata": {},
   "source": [
    "Create a `ColumnDataSource` with columns: month, year, color, rate"
   ]
  },
  {
   "cell_type": "code",
   "execution_count": null,
   "metadata": {},
   "outputs": [],
   "source": [
    "source = bk.ColumnDataSource(\n",
    "    data=dict(\n",
    "        month=month,\n",
    "        year=year,\n",
    "        color=color,\n",
    "        rate=rate,\n",
    "    )\n",
    ")"
   ]
  },
  {
   "cell_type": "markdown",
   "metadata": {},
   "source": [
    "Create a new figure."
   ]
  },
  {
   "cell_type": "code",
   "execution_count": null,
   "metadata": {},
   "outputs": [],
   "source": [
    "fig = bk.figure(plot_width=900, plot_height=400, x_axis_location=\"above\", tools=\"reset, hover\",\n",
    "     x_range=years, y_range=list(reversed(months)), title=\"US Unemployment (1948 - 2013)\")"
   ]
  },
  {
   "cell_type": "markdown",
   "metadata": {},
   "source": [
    "use the `rect renderer with the following attributes:\n",
    "- `x_range` is years, `y_range` is months (reversed)\n",
    "- fill color for the rectangles is the 'color' field\n",
    "- `line_color` for the rectangles is `None`\n",
    "- tools are resize and hover tools\n",
    "- add a nice title, and set the `plot_width` and `plot_height`"
   ]
  },
  {
   "cell_type": "code",
   "execution_count": null,
   "metadata": {},
   "outputs": [],
   "source": [
    "fig.rect('year', 'month', 0.95, 0.95, source=source,\n",
    "     color='color', line_color=None)"
   ]
  },
  {
   "cell_type": "markdown",
   "metadata": {},
   "source": [
    "Style the plot, including:\n",
    "- remove the axis and grid lines\n",
    "- remove the major ticks\n",
    "- make the tick labels smaller\n",
    "- set the x-axis orientation to vertical, or angled"
   ]
  },
  {
   "cell_type": "code",
   "execution_count": null,
   "metadata": {},
   "outputs": [],
   "source": [
    "fig.grid.grid_line_color = None\n",
    "fig.axis.axis_line_color = None\n",
    "fig.axis.major_tick_line_color = None\n",
    "fig.axis.major_label_text_font_size = \"5pt\"\n",
    "fig.axis.major_label_standoff = 0\n",
    "fig.xaxis.major_label_orientation = np.pi/3"
   ]
  },
  {
   "cell_type": "markdown",
   "metadata": {},
   "source": [
    "Configure the  hover tool to display the month, year and rate"
   ]
  },
  {
   "cell_type": "code",
   "execution_count": null,
   "metadata": {},
   "outputs": [],
   "source": [
    "hover = HoverTool(\n",
    "        tooltips=OrderedDict([\n",
    "    ('date', '@month @year'),\n",
    "    ('rate', '@rate'),\n",
    "])\n",
    "    )"
   ]
  },
  {
   "cell_type": "markdown",
   "metadata": {},
   "source": [
    "Now we can display the plot. Try moving your pointer over different cells in the plot."
   ]
  },
  {
   "cell_type": "code",
   "execution_count": null,
   "metadata": {},
   "outputs": [],
   "source": [
    "bk.show(fig)"
   ]
  },
  {
   "cell_type": "markdown",
   "metadata": {},
   "source": [
    "Similarly, we can provide a geographic heatmap, here using data just from Texas."
   ]
  },
  {
   "cell_type": "code",
   "execution_count": null,
   "metadata": {},
   "outputs": [],
   "source": [
    "from bokeh.sampledata import download\n",
    "download()"
   ]
  },
  {
   "cell_type": "code",
   "execution_count": null,
   "metadata": {},
   "outputs": [],
   "source": [
    "from bokeh.sampledata import us_counties, unemployment\n",
    "from collections import OrderedDict\n",
    "\n",
    "# Longitude and latitude values for county boundaries\n",
    "county_xs=[\n",
    "    us_counties.data[code]['lons'] for code in us_counties.data\n",
    "    if us_counties.data[code]['state'] == 'tx'\n",
    "]\n",
    "county_ys=[\n",
    "    us_counties.data[code]['lats'] for code in us_counties.data\n",
    "    if us_counties.data[code]['state'] == 'tx'\n",
    "]\n",
    "\n",
    "# Color palette from colorbrewer2.org\n",
    "colors = ['#ffffd4','#fee391','#fec44f','#fe9929','#d95f0e','#993404']\n",
    "\n",
    "# Assign colors based on unemployment\n",
    "county_colors = []\n",
    "for county_id in us_counties.data:\n",
    "    if us_counties.data[county_id]['state'] != 'tx':\n",
    "        continue\n",
    "    try:\n",
    "        rate = unemployment.data[county_id]\n",
    "        idx = min(int(rate/2), 5)\n",
    "        county_colors.append(colors[idx])\n",
    "    except KeyError:\n",
    "        county_colors.append(\"black\")\n",
    "        \n",
    "fig = bk.figure(tools=\"pan,wheel_zoom,box_zoom,reset,hover,previewsave\", title=\"Texas Unemployment 2009\")\n",
    "\n",
    "# Here are the polygons for plotting\n",
    "fig.patches(county_xs, county_ys, fill_color=county_colors, fill_alpha=0.7, \n",
    "           line_color=\"white\", line_width=0.5)\n",
    "\n",
    "# Configure hover tool\n",
    "hover = HoverTool(\n",
    "        tooltips=OrderedDict([\n",
    "    (\"index\", \"$index\"),\n",
    "    (\"(x,y)\", \"($x, $y)\"),\n",
    "    (\"fill color\", \"$color[hex, swatch]:fill_color\"),\n",
    "])\n",
    "    )\n",
    "\n",
    "\n",
    "bk.show(fig)"
   ]
  },
  {
   "cell_type": "markdown",
   "metadata": {},
   "source": [
    "# Generating and displaying images\n",
    "\n",
    "Mandelbrot set images are made by sampling complex numbers and determining for each whether the result tends towards infinity when a particular mathematical operation is iterated on it.\n",
    "\n",
    "First, functions for generating the Mandelbrot set image. They create a 2D array of numbers, over which a color map can be displayed."
   ]
  },
  {
   "cell_type": "code",
   "execution_count": null,
   "metadata": {},
   "outputs": [],
   "source": [
    "from __future__ import division\n",
    "\n",
    "def mandel(x, y, max_iters):\n",
    "    \"\"\"\n",
    "    Given the real and imaginary parts of a complex number,\n",
    "    determine if it is a candidate for membership in the Mandelbrot\n",
    "    set given a fixed number of iterations.\n",
    "    \"\"\"\n",
    "    c = complex(x, y)\n",
    "    z = 0.0j\n",
    "    for i in range(max_iters):\n",
    "        z = z*z + c\n",
    "        if (z.real*z.real + z.imag*z.imag) >= 4:\n",
    "            return i\n",
    "    return max_iters\n",
    "\n",
    "def create_fractal(min_x, max_x, min_y, max_y, image, iters):\n",
    "    height = image.shape[0]\n",
    "    width = image.shape[1]\n",
    "\n",
    "    pixel_size_x = (max_x - min_x) / width\n",
    "    pixel_size_y = (max_y - min_y) / height\n",
    "\n",
    "    for x in range(width):\n",
    "        real = min_x + x * pixel_size_x\n",
    "        for y in range(height):\n",
    "            imag = min_y + y * pixel_size_y\n",
    "            color = mandel(real, imag, iters)\n",
    "            image[y, x] = color"
   ]
  },
  {
   "cell_type": "markdown",
   "metadata": {},
   "source": [
    "Define the bounding coordinates to generate the Mandelbrot image, then create a scalar image (2D array of numbers)"
   ]
  },
  {
   "cell_type": "code",
   "execution_count": null,
   "metadata": {},
   "outputs": [],
   "source": [
    "min_x = -2.0\n",
    "max_x = 1.0\n",
    "min_y = -1.0\n",
    "max_y = 1.0\n",
    "\n",
    "img = np.zeros((1024, 1536), dtype = np.uint8)\n",
    "create_fractal(min_x, max_x, min_y, max_y, img, 20)"
   ]
  },
  {
   "cell_type": "markdown",
   "metadata": {},
   "source": [
    "Use `image` renderer to display Mandelbrot image, colormapped with \"Spectral-11\" color palette. The renderer can display many images at once, so it takes lists of images, coordinates, and palettes."
   ]
  },
  {
   "cell_type": "code",
   "execution_count": null,
   "metadata": {},
   "outputs": [],
   "source": [
    "p = bk.figure(x_range = [min_x, max_x],\n",
    "      y_range = [min_y, max_y],\n",
    "      title=\"Mandelbrot\",\n",
    "      tools=\"pan,wheel_zoom,box_zoom,reset,previewsave\",\n",
    "      plot_width=900,\n",
    "      plot_height=600)\n",
    "\n",
    "p.image(image=[img],\n",
    "      x=[min_x],\n",
    "      y=[min_y],\n",
    "      dw=[max_x-min_x],\n",
    "      dh=[max_y-min_y]\n",
    ")\n"
   ]
  },
  {
   "cell_type": "code",
   "execution_count": null,
   "metadata": {},
   "outputs": [],
   "source": [
    "bk.show(p)"
   ]
  },
  {
   "cell_type": "markdown",
   "metadata": {},
   "source": [
    "# Complex Data Visualization\n",
    "\n",
    "In 1951, Will Burtin published a visualization to compare the effectiveness of three popular antibiotics on a suite of bacteria, measured in terms of minimum inhibitory concentration.\n",
    "\n",
    "![burtin](http://www.americanscientist.org/Libraries/images/2009641416567334-2009-07MacroWainerFA.jpg)\n",
    "\n",
    "The *longer* the bar, the *smaller* the effective dose. The orange group is Gram-negative bacteria, while the purple is Gram-positive.\n",
    "\n",
    "We will attempt to re-create this plot in Bokeh.\n",
    "\n",
    "We start by defining the data and computing some derived quantities using NumPy and Pandas"
   ]
  },
  {
   "cell_type": "code",
   "execution_count": null,
   "metadata": {},
   "outputs": [],
   "source": [
    "from bokeh.models.ranges import Range1d\n",
    "try:\n",
    "    from StringIO import StringIO\n",
    "except ImportError:\n",
    "    from io import StringIO\n",
    "from math import log, sqrt\n",
    "from collections import OrderedDict\n",
    "\n",
    "antibiotics = \"\"\"\n",
    "bacteria,                        penicillin, streptomycin, neomycin, gram\n",
    "Mycobacterium tuberculosis,      800,        5,            2,        negative\n",
    "Salmonella schottmuelleri,       10,         0.8,          0.09,     negative\n",
    "Proteus vulgaris,                3,          0.1,          0.1,      negative\n",
    "Klebsiella pneumoniae,           850,        1.2,          1,        negative\n",
    "Brucella abortus,                1,          2,            0.02,     negative\n",
    "Pseudomonas aeruginosa,          850,        2,            0.4,      negative\n",
    "Escherichia coli,                100,        0.4,          0.1,      negative\n",
    "Salmonella (Eberthella) typhosa, 1,          0.4,          0.008,    negative\n",
    "Aerobacter aerogenes,            870,        1,            1.6,      negative\n",
    "Brucella antracis,               0.001,      0.01,         0.007,    positive\n",
    "Streptococcus fecalis,           1,          1,            0.1,      positive\n",
    "Staphylococcus aureus,           0.03,       0.03,         0.001,    positive\n",
    "Staphylococcus albus,            0.007,      0.1,          0.001,    positive\n",
    "Streptococcus hemolyticus,       0.001,      14,           10,       positive\n",
    "Streptococcus viridans,          0.005,      10,           40,       positive\n",
    "Diplococcus pneumoniae,          0.005,      11,           10,       positive\n",
    "\"\"\"\n",
    "\n",
    "drug_color = OrderedDict([\n",
    "    (\"Penicillin\",   \"#0d3362\"),\n",
    "    (\"Streptomycin\", \"#c64737\"),\n",
    "    (\"Neomycin\",     \"black\"  ),\n",
    "])\n",
    "\n",
    "gram_color = {\n",
    "    \"positive\" : \"#aeaeb8\",\n",
    "    \"negative\" : \"#e69584\",\n",
    "}\n",
    "\n",
    "df = pd.read_csv(StringIO(antibiotics), skiprows=1, skipinitialspace=True)\n",
    "\n",
    "width = 800\n",
    "height = 800\n",
    "inner_radius = 90\n",
    "outer_radius = 300 - 10\n",
    "\n",
    "minr = np.sqrt(log(.001 * 1E4))\n",
    "maxr = np.sqrt(log(1000 * 1E4))\n",
    "a = (outer_radius - inner_radius) / (minr - maxr)\n",
    "b = inner_radius - a * maxr\n",
    "\n",
    "def rad(mic):\n",
    "    return a * np.sqrt(np.log(mic * 1E4)) + b\n",
    "\n",
    "big_angle = 2.0 * np.pi / (len(df) + 1)\n",
    "small_angle = big_angle / 7"
   ]
  },
  {
   "cell_type": "markdown",
   "metadata": {},
   "source": [
    "We are going to be combining several glyph renderers on to one plot, first we need to tell Bokeh to reuse the same plot using hold:"
   ]
  },
  {
   "cell_type": "code",
   "execution_count": null,
   "metadata": {},
   "outputs": [],
   "source": [
    "plot = bk.figure(plot_width=width, plot_height=height, title=\"\", tools=\"\", x_axis_type=None, y_axis_type=None)"
   ]
  },
  {
   "cell_type": "markdown",
   "metadata": {},
   "source": [
    "Next we add the first glyph, the red and blue regions using `annular_wedge`. We also take this opportunity to set some of the overall properties of the plot:"
   ]
  },
  {
   "cell_type": "code",
   "execution_count": null,
   "metadata": {},
   "outputs": [],
   "source": [
    "x = np.zeros(len(df))\n",
    "y = np.zeros(len(df))\n",
    "angles = np.pi/2 - big_angle/2 - df.index.values*big_angle\n",
    "colors = [gram_color[gram] for gram in df.gram]\n",
    "plot.annular_wedge(\n",
    "    x, y, inner_radius, outer_radius, -big_angle+angles, angles, color=colors)"
   ]
  },
  {
   "cell_type": "markdown",
   "metadata": {},
   "source": [
    "Next we grab the current plot using `curplot` and customize the look of the plot further:"
   ]
  },
  {
   "cell_type": "code",
   "execution_count": null,
   "metadata": {},
   "outputs": [],
   "source": [
    "plot.x_range = Range1d(start=-420, end=420)\n",
    "plot.y_range = Range1d(start=-420, end=420)\n",
    "plot.min_border = 0\n",
    "plot.background_fill_color = \"#f0e1d2\"\n",
    "plot.border_fill_color = \"#f0e1d2\"\n",
    "plot.outline_line_color = None\n",
    "# plot.xgrid().grid_line_color = None\n",
    "# plot.ygrid().grid_line_color = None"
   ]
  },
  {
   "cell_type": "markdown",
   "metadata": {},
   "source": [
    "Add the small wedges representing the antibiotic effectiveness, also using `annular_wedge`:"
   ]
  },
  {
   "cell_type": "code",
   "execution_count": null,
   "metadata": {},
   "outputs": [],
   "source": [
    "plot.annular_wedge(\n",
    "    x, y, inner_radius, rad(df.penicillin), -big_angle+angles + 5*small_angle, -big_angle+angles+6*small_angle, color=drug_color['Penicillin'],\n",
    ")\n",
    "plot.annular_wedge(\n",
    "    x, y, inner_radius, rad(df.streptomycin), -big_angle+angles + 3*small_angle, -big_angle+angles+4*small_angle, color=drug_color['Streptomycin'],\n",
    ")\n",
    "plot.annular_wedge(\n",
    "    x, y, inner_radius, rad(df.neomycin), -big_angle+angles + 1*small_angle, -big_angle+angles+2*small_angle, color=drug_color['Neomycin'],\n",
    ")"
   ]
  },
  {
   "cell_type": "markdown",
   "metadata": {},
   "source": [
    "Add circular and radial axes lines using `circle`, `text`, and `annular_wedge`:"
   ]
  },
  {
   "cell_type": "code",
   "execution_count": null,
   "metadata": {},
   "outputs": [],
   "source": [
    "labels = np.power(10.0, np.arange(-3, 4))\n",
    "radii = a * np.sqrt(np.log(labels * 1E4)) + b\n",
    "\n",
    "plot.circle(x, y, radius=radii, fill_color=None, line_color=\"white\")\n",
    "plot.text(x[:-1], radii[:-1], \n",
    "          [str(r) for r in labels[:-1]], \n",
    "          angle=0, \n",
    "          text_font_size=\"8pt\", \n",
    "          text_align=\"center\", \n",
    "          text_baseline=\"middle\")\n",
    "\n",
    "plot.annular_wedge(\n",
    "    x, y, inner_radius-10, outer_radius+10, -big_angle+angles, -big_angle+angles, color=\"black\",\n",
    ")"
   ]
  },
  {
   "cell_type": "markdown",
   "metadata": {},
   "source": [
    "Text labels for the bacteria using `text`:"
   ]
  },
  {
   "cell_type": "code",
   "execution_count": null,
   "metadata": {},
   "outputs": [],
   "source": [
    "xr = radii[0]*np.cos(np.array(-big_angle/2 + angles))\n",
    "yr = radii[0]*np.sin(np.array(-big_angle/2 + angles))\n",
    "label_angle = np.array(-big_angle/2+angles)\n",
    "label_angle[label_angle < -np.pi/2] += np.pi # easier to read labels on the left side\n",
    "plot.text(xr, yr, df.bacteria, angle=label_angle, text_font_size=\"9pt\", text_align=\"center\", text_baseline=\"middle\")"
   ]
  },
  {
   "cell_type": "markdown",
   "metadata": {},
   "source": [
    "Add custom legend"
   ]
  },
  {
   "cell_type": "code",
   "execution_count": null,
   "metadata": {},
   "outputs": [],
   "source": [
    "plot.circle([-40, -40], [-370, -390], color=list(gram_color.values()), radius=5)\n",
    "plot.text([-30, -30], [-370, -390], text=[\"Gram-\" + x for x in gram_color.keys()], \n",
    "     angle=0, text_font_size=\"7pt\", text_align=\"left\", text_baseline=\"middle\")\n",
    "\n",
    "plot.rect([-40, -40, -40], [18, 0, -18], width=30, height=13, color=list(drug_color.values()))\n",
    "plot.text([-15, -15, -15], [18, 0, -18], text=list(drug_color.keys()), angle=0, \n",
    "     text_font_size=\"9pt\", text_align=\"left\", text_baseline=\"middle\")"
   ]
  },
  {
   "cell_type": "code",
   "execution_count": null,
   "metadata": {},
   "outputs": [],
   "source": [
    "bk.show(plot)"
   ]
  },
  {
   "cell_type": "code",
   "execution_count": null,
   "metadata": {},
   "outputs": [],
   "source": []
  }
 ],
 "metadata": {
  "kernelspec": {
   "display_name": "Python 3",
   "language": "python",
   "name": "python3"
  },
  "language_info": {
   "codemirror_mode": {
    "name": "ipython",
    "version": 3
   },
   "file_extension": ".py",
   "mimetype": "text/x-python",
   "name": "python",
   "nbconvert_exporter": "python",
   "pygments_lexer": "ipython3",
   "version": "3.6.4"
  },
  "toc": {
   "colors": {
    "hover_highlight": "#DAA520",
    "running_highlight": "#FF0000",
    "selected_highlight": "#FFD700"
   },
   "moveMenuLeft": true,
   "nav_menu": {
    "height": "264px",
    "width": "252px"
   },
   "navigate_menu": true,
   "number_sections": true,
   "sideBar": true,
   "threshold": "2",
   "toc_cell": false,
   "toc_section_display": "block",
   "toc_window_display": false,
   "widenNotebook": false
  }
 },
 "nbformat": 4,
 "nbformat_minor": 2
}
