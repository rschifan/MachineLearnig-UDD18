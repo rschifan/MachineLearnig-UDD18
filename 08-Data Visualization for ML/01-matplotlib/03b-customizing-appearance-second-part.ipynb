{
 "cells": [
  {
   "cell_type": "code",
   "execution_count": null,
   "metadata": {
    "collapsed": false
   },
   "outputs": [],
   "source": [
    "%matplotlib inline\n",
    "\n",
    "import matplotlib as mpl\n",
    "import matplotlib.pyplot as plt\n",
    "import numpy as np\n",
    "\n",
    "from IPython.display import set_matplotlib_formats\n",
    "set_matplotlib_formats('retina')\n",
    "\n",
    "# Let's get our standard imports out of the way\n",
    "from __future__ import print_function"
   ]
  },
  {
   "cell_type": "markdown",
   "metadata": {},
   "source": [
    "# Limits, Legends, and Layouts\n",
    "\n",
    "In this section, we'll focus on what happens around the edges of the axes:  Ticks, ticklabels, limits, layouts, and legends."
   ]
  },
  {
   "cell_type": "markdown",
   "metadata": {},
   "source": [
    "# Limits and autoscaling\n",
    "\n",
    "By default, Matplotlib will attempt to determine limits for you that encompasses all the data you have plotted.  This is the \"autoscale\" feature. For image plots, the limits are not padded while plots such as scatter plots and bar plots are given some padding."
   ]
  },
  {
   "cell_type": "code",
   "execution_count": null,
   "metadata": {
    "collapsed": false
   },
   "outputs": [],
   "source": [
    "fig, (ax1, ax2) = plt.subplots(nrows=1, ncols=2, figsize=plt.figaspect(0.5))\n",
    "\n",
    "ax1.plot([-10, -5, 0, 5, 10, 15], [-1.2, 2, 3.5, -0.3, -4, 1])\n",
    "ax2.scatter([-10, -5, 0, 5, 10, 15], [-1.2, 2, 3.5, -0.3, -4, 1])\n",
    "\n",
    "plt.show()"
   ]
  },
  {
   "cell_type": "markdown",
   "metadata": {},
   "source": [
    "### `ax.margins(...)`\n",
    "\n",
    "If you'd like to add a bit of \"padding\" to a plot, `ax.margins(<some_small_fraction>)` is a very handy way to do so.  Instead of choosing \"even-ish\" numbers as min/max ranges for each axis, `margins` will make Matplotlib calculate the min/max of each axis by taking the range of the data and adding on a fractional amount of padding.\n",
    "\n",
    "As an example:"
   ]
  },
  {
   "cell_type": "code",
   "execution_count": null,
   "metadata": {
    "collapsed": false
   },
   "outputs": [],
   "source": [
    "fig, (ax1, ax2) = plt.subplots(1, 2, figsize=plt.figaspect(0.5))\n",
    "\n",
    "ax1.plot([-10, -5, 0, 5, 10, 15], [-1.2, 2, 3.5, -0.3, -4, 1])\n",
    "ax2.scatter([-10, -5, 0, 5, 10, 15], [-1.2, 2, 3.5, -0.3, -4, 1])\n",
    "\n",
    "ax1.margins(x=0.0, y=0.1) # 10% padding in the y-direction only\n",
    "ax2.margins(0.05) # 5% padding in all directions\n",
    "\n",
    "plt.show()"
   ]
  },
  {
   "cell_type": "markdown",
   "metadata": {},
   "source": [
    "### `ax.axis(...)`\n",
    "\n",
    "The `ax.axis(...)` method is a convienent way of controlling the axes limits and enabling/disabling autoscaling.\n",
    "\n",
    "If you ever need to get all of the current plot limits, calling `ax.axis()` with no arguments will return the xmin/max/etc:\n",
    "\n",
    "    xmin, xmax, ymin, ymax = ax.axis()\n",
    "    \n",
    "If you'd like to manually set all of the x/y limits at once, you can use `ax.axis` for this, as well (note that we're calling it with a single argument that's a sequence, not 4 individual arguments):\n",
    "\n",
    "    ax.axis([xmin, xmax, ymin, ymax])\n",
    "    \n",
    "However, you'll probably use `axis` mostly with either the `\"tight\"` or `\"equal\"` options. There are other options as well; see the documentation for full details.  In a nutshell, though:\n",
    "\n",
    "  * *tight*: Set axes limits to the exact range of the data\n",
    "  * *equal*: Set axes scales such that one cm/inch in the y-direction is the same as one cm/inch in the x-direction. In Matplotlib terms, this sets the aspect ratio of the plot to 1.  That _doesn't_ mean that the axes \"box\" will be square.\n",
    "  \n",
    "And as an example:"
   ]
  },
  {
   "cell_type": "code",
   "execution_count": null,
   "metadata": {
    "collapsed": false
   },
   "outputs": [],
   "source": [
    "fig, axes = plt.subplots(nrows=3)\n",
    "\n",
    "for ax in axes:\n",
    "    ax.plot([-10, -5, 0, 5, 10, 15], [-1.2, 2, 3.5, -0.3, -4, 1])\n",
    "\n",
    "axes[0].set_title('Normal Autoscaling', y=0.7, x=0.8)\n",
    "\n",
    "axes[1].set_title('ax.axis(\"tight\")', y=0.7, x=0.8)\n",
    "axes[1].axis('tight')\n",
    "\n",
    "axes[2].set_title('ax.axis(\"equal\")', y=0.7, x=0.8)\n",
    "axes[2].axis('equal')\n",
    "\n",
    "plt.show()"
   ]
  },
  {
   "cell_type": "markdown",
   "metadata": {},
   "source": [
    "### Manually setting only one limit\n",
    "\n",
    "Another trick with limits is to specify only half of a limit. When done **after** a plot is made, this has the effect of allowing the user to anchor a limit while letting Matplotlib autoscale the rest of it."
   ]
  },
  {
   "cell_type": "code",
   "execution_count": null,
   "metadata": {
    "collapsed": false
   },
   "outputs": [],
   "source": [
    "# Good -- setting limits after plotting is done\n",
    "fig, (ax1, ax2) = plt.subplots(1, 2, figsize=plt.figaspect(0.5))\n",
    "ax1.plot([-10, -5, 0, 5, 10, 15], [-1.2, 2, 3.5, -0.3, -4, 1])\n",
    "ax2.scatter([-10, -5, 0, 5, 10, 15], [-1.2, 2, 3.5, -0.3, -4, 1])\n",
    "ax1.set_ylim(bottom=-10)\n",
    "ax2.set_xlim(right=25)\n",
    "plt.show()"
   ]
  },
  {
   "cell_type": "code",
   "execution_count": null,
   "metadata": {
    "collapsed": false
   },
   "outputs": [],
   "source": [
    "# Bad -- Setting limits before plotting is done\n",
    "fig, (ax1, ax2) = plt.subplots(1, 2, figsize=plt.figaspect(0.5))\n",
    "ax1.set_ylim(bottom=-10)\n",
    "ax2.set_xlim(right=25)\n",
    "ax1.plot([-10, -5, 0, 5, 10, 15], [-1.2, 2, 3.5, -0.3, -4, 1])\n",
    "ax2.scatter([-10, -5, 0, 5, 10, 15], [-1.2, 2, 3.5, -0.3, -4, 1])\n",
    "plt.show()"
   ]
  },
  {
   "cell_type": "markdown",
   "metadata": {},
   "source": [
    "# Legends\n",
    "\n",
    "As you've seen in some of the examples so far, the X and Y axis can also be labeled, as well as the subplot itself via the title. \n",
    "\n",
    "However, another thing you can label is the line/point/bar/etc that you plot.  You can provide a label to your plot, which allows your legend to automatically build itself. "
   ]
  },
  {
   "cell_type": "code",
   "execution_count": null,
   "metadata": {
    "collapsed": false
   },
   "outputs": [],
   "source": [
    "fig, ax = plt.subplots()\n",
    "ax.plot([1, 2, 3, 4], [10, 20, 25, 30], label='Philadelphia')\n",
    "ax.plot([1, 2, 3, 4], [30, 23, 13, 4], label='Boston')\n",
    "ax.set(ylabel='Temperature (deg C)', xlabel='Time', title='A tale of two cities')\n",
    "ax.legend()\n",
    "plt.show()"
   ]
  },
  {
   "cell_type": "markdown",
   "metadata": {},
   "source": [
    "In `classic` mode, legends will go in the upper right corner by default (you can control this with the `loc` kwarg). As of v2.0, by default Matplotlib will choose a location to avoid overlapping plot elements as much as possible. To force this option, you can pass in:\n",
    "\n",
    "    ax.legend(loc=\"best\")\n",
    "    \n",
    "Also, if you happen to be plotting something that you do not want to appear in the legend, just set the label to \"\\_nolegend\\_\"."
   ]
  },
  {
   "cell_type": "code",
   "execution_count": null,
   "metadata": {
    "collapsed": false
   },
   "outputs": [],
   "source": [
    "fig, ax = plt.subplots(1, 1)\n",
    "ax.bar([1, 2, 3, 4], [10, 20, 25, 30], label=\"Foobar\", align='center', color='lightblue')\n",
    "ax.legend(loc='best')\n",
    "plt.show()"
   ]
  },
  {
   "cell_type": "markdown",
   "metadata": {},
   "source": [
    "### Controlling the legend entries\n",
    "\n",
    "Calling :func:`legend` with no arguments automatically fetches the legend\n",
    "handles and their associated labels. This functionality is equivalent to:"
   ]
  },
  {
   "cell_type": "code",
   "execution_count": null,
   "metadata": {},
   "outputs": [],
   "source": [
    "fig, ax = plt.subplots()\n",
    "\n",
    "line_up, = plt.plot([1,2,3], label='Line 2')\n",
    "line_down, = plt.plot([3,2,1], label='Line 1')\n",
    "\n",
    "handles, labels = ax.get_legend_handles_labels()\n",
    "ax.legend(handles, labels)\n",
    "plt.show()"
   ]
  },
  {
   "cell_type": "markdown",
   "metadata": {},
   "source": [
    "The :meth:`~matplotlib.axes.Axes.get_legend_handles_labels` function returns a list of handles/artists which exist on the Axes which can be used to generate entries for the resulting legend - it is worth noting however that not all artists can be added to a legend, at which point a \"proxy\" will have to be created (see `proxy_legend_handles` for further details).\n",
    "\n",
    "For full control of what is being added to the legend, it is common to pass the appropriate handles directly to :func:`legend`"
   ]
  },
  {
   "cell_type": "code",
   "execution_count": null,
   "metadata": {},
   "outputs": [],
   "source": [
    "fig, ax = plt.subplots()\n",
    "\n",
    "line_up, = plt.plot([1,2,3], label='Line 2')\n",
    "line_down, = plt.plot([3,2,1], label='Line 1')\n",
    "\n",
    "print('type: ', line_up.__class__)\n",
    "\n",
    "ax.legend(handles=[line_up, line_down])\n",
    "plt.show()"
   ]
  },
  {
   "cell_type": "markdown",
   "metadata": {},
   "source": [
    "In some cases, it is not possible to set the label of the handle, so it is\n",
    "possible to pass through the list of labels to :func:`legend`::"
   ]
  },
  {
   "cell_type": "code",
   "execution_count": null,
   "metadata": {},
   "outputs": [],
   "source": [
    "fig, ax = plt.subplots()\n",
    "\n",
    "line_up, = plt.plot([1,2,3], label='Line 2')\n",
    "line_down, = plt.plot([3,2,1], label='Line 1')\n",
    "\n",
    "ax.legend(handles=[line_up, line_down], labels=['Line Up','Line Down'])\n",
    "plt.show()"
   ]
  },
  {
   "cell_type": "markdown",
   "metadata": {},
   "source": [
    "Legend location\n",
    "===============\n",
    "\n",
    "The location of the legend can be specified by the keyword argument\n",
    "**loc**. Please see the documentation at :func:[legend](https://matplotlib.org/api/_as_gen/matplotlib.pyplot.legend.html) for more details.\n",
    "\n",
    "The ``bbox_to_anchor`` keyword gives a great degree of control for manual\n",
    "legend placement. For example, if you want your axes legend located at the\n",
    "figure's top right-hand corner instead of the axes' corner, simply specify\n",
    "the corner's location, and the coordinate system of that location::\n",
    "\n",
    "    plt.legend(bbox_to_anchor=(1, 1),\n",
    "               bbox_transform=plt.gcf().transFigure)\n",
    "\n",
    "More examples of custom legend placement:\n",
    "\n"
   ]
  },
  {
   "cell_type": "code",
   "execution_count": null,
   "metadata": {
    "collapsed": false
   },
   "outputs": [],
   "source": [
    "fig, axes = plt.subplots(nrows=2)\n",
    "axes[0].plot([1, 2, 3], label=\"test1\")\n",
    "axes[0].plot([3, 2, 1], label=\"test2\")\n",
    "\n",
    "# Place a legend above this subplot, expanding itself to\n",
    "# fully use the given bounding box.\n",
    "axes[0].legend(bbox_to_anchor=(0., 1.02, 1., .102), loc=3,\n",
    "           ncol=2, mode=\"expand\", borderaxespad=0.)\n",
    "\n",
    "axes[1].plot([1, 2, 3], label=\"test1\")\n",
    "axes[1].plot([3, 2, 1], label=\"test2\")\n",
    "# Place a legend to the right of this smaller subplot.\n",
    "axes[1].legend(bbox_to_anchor=(1.05, 1), loc=2, borderaxespad=0.)\n",
    "\n",
    "plt.show()"
   ]
  },
  {
   "cell_type": "markdown",
   "metadata": {},
   "source": [
    "Multiple legends on the same Axes\n",
    "=================================\n",
    "\n",
    "Sometimes it is more clear to split legend entries across multiple\n",
    "legends. Whilst the instinctive approach to doing this might be to call\n",
    "the :func:`legend` function multiple times, you will find that only one\n",
    "legend ever exists on the Axes. This has been done so that it is possible\n",
    "to call :func:`legend` repeatedly to update the legend to the latest\n",
    "handles on the Axes, so to persist old legend instances, we must add them\n",
    "manually to the Axes:\n",
    "\n"
   ]
  },
  {
   "cell_type": "code",
   "execution_count": null,
   "metadata": {
    "collapsed": false
   },
   "outputs": [],
   "source": [
    "fig, ax = plt.subplots()\n",
    "\n",
    "line1, = ax.plot([1, 2, 3], label=\"Line 1\", linestyle='--')\n",
    "line2, = ax.plot([3, 2, 1], label=\"Line 2\", linewidth=4)\n",
    "\n",
    "# Create a legend for the first line.\n",
    "first_legend = plt.legend(handles=[line1], loc=1)\n",
    "\n",
    "# Add the legend manually to the current Axes.\n",
    "ax.add_artist(first_legend)\n",
    "# Create another legend for the second line.\n",
    "ax.legend(handles=[line2], loc=4)\n",
    "\n",
    "plt.show()"
   ]
  },
  {
   "cell_type": "markdown",
   "metadata": {},
   "source": [
    "# Exercise 4.1\n",
    "\n",
    "Once again, let's use a bit of what we've learned.  Try to reproduce the following figure:\n",
    "\n",
    "<img src=\"images/exercise_4-1.png\" width=\"60%\">\n",
    "\n",
    "Hint: You'll need to combine `ax.axis(...)` and `ax.margins(...)`.  Here's the data and some code to get you started:"
   ]
  },
  {
   "cell_type": "code",
   "execution_count": null,
   "metadata": {
    "collapsed": false
   },
   "outputs": [],
   "source": [
    "# %load exercises/4.1-legends_and_scaling.py"
   ]
  },
  {
   "cell_type": "code",
   "execution_count": null,
   "metadata": {
    "collapsed": true
   },
   "outputs": [],
   "source": [
    "import numpy as np\n",
    "import matplotlib.pyplot as plt\n",
    "\n",
    "t = np.linspace(0, 2 * np.pi, 150)\n",
    "x1, y1 = np.cos(t), np.sin(t)\n",
    "x2, y2 = 2 * x1, 2 * y1\n",
    "\n",
    "colors = ['darkred', 'darkgreen']\n",
    "\n",
    "# Try to plot the two circles, scale the axes as shown and add a legend\n",
    "# Hint: it's easiest to combine `ax.axis(...)` and `ax.margins(...)` to scale the axes"
   ]
  },
  {
   "cell_type": "markdown",
   "metadata": {},
   "source": [
    "# Dealing with the boundaries: Layout, ticks, spines, etc\n",
    "\n",
    "One key thing we haven't talked about yet is all of the annotation on the outside of the axes, the borders of the axes, and how to adjust the amount of space around the axes.  We won't go over every detail, but this next section should give you a reasonable working knowledge of how to configure what happens around the edges of your axes.\n",
    "\n",
    "## Ticks, Tick Lines, Tick Labels and Tickers\n",
    "This is a constant source of confusion:\n",
    "\n",
    "* A Tick is the *location* of a Tick Label.\n",
    "* A Tick Line is the line that denotes the location of the tick.\n",
    "* A Tick Label is the text that is displayed at that tick.\n",
    "* A [`Ticker`](http://matplotlib.org/api/ticker_api.html#module-matplotlib.ticker) automatically determines the ticks for an Axis and formats the tick labels.\n",
    "\n",
    "[`tick_params()`](http://matplotlib.org/api/axes_api.html#matplotlib.axes.Axes.tick_params) is often used to help configure your tickers."
   ]
  },
  {
   "cell_type": "code",
   "execution_count": null,
   "metadata": {
    "collapsed": false
   },
   "outputs": [],
   "source": [
    "fig, ax = plt.subplots()\n",
    "ax.plot([1, 2, 3, 4], [10, 20, 25, 30])\n",
    "\n",
    "# Manually set ticks and tick labels *on the x-axis* (note ax.xaxis.set, not ax.set!)\n",
    "ax.xaxis.set(ticks=range(1, 5), ticklabels=[3, 100, -12, \"foo\"]) \n",
    "\n",
    "# Make the y-ticks a bit longer and go both in and out...\n",
    "ax.tick_params(axis='y', direction='inout', length=10)\n",
    "\n",
    "plt.show()"
   ]
  },
  {
   "cell_type": "markdown",
   "metadata": {},
   "source": [
    "A commonly-asked question is \"How do I plot non-numerical categories?\"\n",
    "    \n",
    "Currently, the easiest way to do this is to \"fake\" the x-values and then change the tick labels to reflect the category.\n",
    "\n",
    "For example:"
   ]
  },
  {
   "cell_type": "code",
   "execution_count": null,
   "metadata": {
    "collapsed": false
   },
   "outputs": [],
   "source": [
    "data = [('apples', 2), ('oranges', 3), ('peaches', 1)]\n",
    "fruit, value = zip(*data)\n",
    "\n",
    "fig, ax = plt.subplots()\n",
    "x = np.arange(len(fruit))\n",
    "ax.bar(x, value, align='center', color='gray')\n",
    "ax.set(xticks=x, xticklabels=fruit)\n",
    "plt.show()"
   ]
  },
  {
   "cell_type": "markdown",
   "metadata": {},
   "source": [
    "## Subplot Spacing\n",
    "The spacing between the subplots can be adjusted using [`fig.subplots_adjust()`](http://matplotlib.org/api/pyplot_api.html?#matplotlib.pyplot.subplots_adjust). Play around with the example below to see how the different arguments affect the spacing."
   ]
  },
  {
   "cell_type": "code",
   "execution_count": null,
   "metadata": {
    "collapsed": false
   },
   "outputs": [],
   "source": [
    "fig, axes = plt.subplots(2, 2, figsize=(9, 9))\n",
    "fig.subplots_adjust(wspace=0.5, hspace=0.3,\n",
    "                    left=0.125, right=0.9,\n",
    "                    top=0.9,    bottom=0.1)\n",
    "plt.show()"
   ]
  },
  {
   "cell_type": "markdown",
   "metadata": {},
   "source": [
    "A common \"gotcha\" is that the labels are not automatically adjusted to avoid overlapping those of another subplot. Matplotlib does not currently have any sort of robust layout engine, as it is a design decision to minimize the amount of \"magical plotting\". We intend to let users have complete, 100% control over their plots. LaTeX users would be quite familiar with the amount of frustration that can occur with automatic placement of figures in their documents.\n",
    "\n",
    "That said, there have been some efforts to develop tools that users can use to help address the most common compaints. The \"[Tight Layout](http://matplotlib.org/users/tight_layout_guide.html)\" feature, when invoked, will attempt to resize margins and subplots so that nothing overlaps.\n",
    "\n",
    "If you have multiple subplots, and want to avoid overlapping titles/axis labels/etc, `fig.tight_layout` is a great way to do so:"
   ]
  },
  {
   "cell_type": "code",
   "execution_count": null,
   "metadata": {
    "collapsed": false
   },
   "outputs": [],
   "source": [
    "def example_plot(ax):\n",
    "    ax.plot([1, 2])\n",
    "    ax.set_xlabel('x-label', fontsize=16)\n",
    "    ax.set_ylabel('y-label', fontsize=8)\n",
    "    ax.set_title('Title', fontsize=24)\n",
    "\n",
    "fig, ((ax1, ax2), (ax3, ax4)) = plt.subplots(nrows=2, ncols=2)\n",
    "example_plot(ax1)\n",
    "example_plot(ax2)\n",
    "example_plot(ax3)\n",
    "example_plot(ax4)\n",
    "\n",
    "# Enable fig.tight_layout to compare...\n",
    "# fig.tight_layout()\n",
    "\n",
    "plt.show()"
   ]
  },
  {
   "cell_type": "markdown",
   "metadata": {},
   "source": [
    "## GridSpec\n",
    "Under the hood, Matplotlib utilizes [`GridSpec`](http://matplotlib.org/api/gridspec_api.html) to lay out the subplots. While `plt.subplots()` is fine for simple cases, sometimes you will need more advanced subplot layouts. In such cases, you should use GridSpec directly. GridSpec is outside the scope of this tutorial, but it is handy to know that it exists. [Here](http://matplotlib.org/users/gridspec.html) is a guide on how to use it."
   ]
  },
  {
   "cell_type": "markdown",
   "metadata": {},
   "source": [
    "## Sharing axes\n",
    "There will be times when you want to have the x axis and/or the y axis of your subplots to be \"shared\". Sharing an axis means that the axis in one or more subplots will be tied together such that any change in one of the axis changes all of the other shared axes. This works very nicely with autoscaling arbitrary datasets that may have overlapping domains. Furthermore, when interacting with the plots (panning and zooming), all of the shared axes will pan and zoom automatically."
   ]
  },
  {
   "cell_type": "code",
   "execution_count": null,
   "metadata": {
    "collapsed": false
   },
   "outputs": [],
   "source": [
    "fig, (ax1, ax2) = plt.subplots(1, 2, sharex=True, sharey=True)\n",
    "ax1.plot([1, 2, 3, 4], [1, 2, 3, 4])\n",
    "ax2.plot([3, 4, 5, 6], [6, 5, 4, 3])\n",
    "plt.show()"
   ]
  },
  {
   "cell_type": "markdown",
   "metadata": {},
   "source": [
    "## \"Twinning\" axes\n",
    "Sometimes one may want to overlay two plots on the same axes, but the scales may be entirely different. You can simply treat them as separate plots, but then twin them."
   ]
  },
  {
   "cell_type": "code",
   "execution_count": null,
   "metadata": {
    "collapsed": false
   },
   "outputs": [],
   "source": [
    "fig, ax1 = plt.subplots(1, 1)\n",
    "ax1.plot([1, 2, 3, 4], [1, 2, 3, 4])\n",
    "ax2 = ax1.twinx()\n",
    "ax2.scatter([1, 2, 3, 4], [60, 50, 40, 30])\n",
    "ax1.set(xlabel='X', ylabel='First scale')\n",
    "ax2.set(ylabel='Other scale')\n",
    "plt.show()"
   ]
  },
  {
   "cell_type": "markdown",
   "metadata": {},
   "source": [
    "# Axis Spines\n",
    "Spines are the axis lines for a plot. Each plot can have four spines: \"top\", \"bottom\", \"left\" and \"right\". By default, they are set so that they frame the plot, but they can be individually positioned and configured via the [`set_position()`](http://matplotlib.org/api/spines_api.html#matplotlib.spines.Spine.set_position) method of the spine. Here are some different configurations."
   ]
  },
  {
   "cell_type": "code",
   "execution_count": null,
   "metadata": {
    "collapsed": false
   },
   "outputs": [],
   "source": [
    "fig, ax = plt.subplots()\n",
    "ax.plot([-2, 2, 3, 4], [-10, 20, 25, 5])\n",
    "ax.spines['top'].set_visible(False)\n",
    "ax.xaxis.set_ticks_position('bottom')  # no ticklines at the top\n",
    "ax.spines['right'].set_visible(False)\n",
    "ax.yaxis.set_ticks_position('left')  # no ticklines on the right\n",
    "\n",
    "# \"outward\"\n",
    "# Move the two remaining spines \"out\" away from the plot by 10 points\n",
    "#ax.spines['bottom'].set_position(('outward', 10))\n",
    "#ax.spines['left'].set_position(('outward', 10))\n",
    "\n",
    "# \"data\"\n",
    "# Have the spines stay intersected at (0,0)\n",
    "#ax.spines['bottom'].set_position(('data', 0))\n",
    "#ax.spines['left'].set_position(('data', 0))\n",
    "\n",
    "# \"axes\"\n",
    "# Have the two remaining spines placed at a fraction of the axes\n",
    "#ax.spines['bottom'].set_position(('axes', 0.75))\n",
    "#ax.spines['left'].set_position(('axes', 0.3))\n",
    "\n",
    "plt.show()"
   ]
  },
  {
   "cell_type": "markdown",
   "metadata": {},
   "source": [
    "# Exercise 4.2\n",
    "\n",
    "This one is a bit trickier.  Once again, try to reproduce the figure below:\n",
    "\n",
    "<img src=\"images/exercise_4-2.png\" width=\"60%\">\n",
    "\n",
    "\n",
    "A few key hints: The two subplots have no vertical space between them (this means that the `hspace` is `0`). Note that the bottom spine is at 0 in data coordinates and the tick lines are missing from the right and top sides.\n",
    "\n",
    "Because you're going to be doing a lot of the same things to both subplots, to avoid repitive code you might consider writing a function that takes an `Axes` object and makes the spine changes, etc to it. \n",
    "\n"
   ]
  },
  {
   "cell_type": "code",
   "execution_count": null,
   "metadata": {
    "collapsed": false
   },
   "outputs": [],
   "source": [
    "# %load exercises/4.2-spines_ticks_and_subplot_spacing.py"
   ]
  },
  {
   "cell_type": "code",
   "execution_count": null,
   "metadata": {
    "collapsed": false
   },
   "outputs": [],
   "source": [
    "import matplotlib.pyplot as plt\n",
    "import numpy as np\n",
    "\n",
    "# Try to reproduce the figure shown in images/exercise_4.2.png\n",
    "# This one is a bit trickier!\n",
    "\n",
    "# Here's the data...\n",
    "data = [('dogs', 4, 4), ('frogs', -3, 1), ('cats', 1, 5), ('goldfish', -2, 2)]\n",
    "animals, friendliness, popularity = zip(*data)"
   ]
  },
  {
   "cell_type": "markdown",
   "metadata": {},
   "source": [
    "## Drawing inset plots"
   ]
  },
  {
   "cell_type": "markdown",
   "metadata": {},
   "source": [
    "### Drawing a basic inset plot"
   ]
  },
  {
   "cell_type": "code",
   "execution_count": null,
   "metadata": {},
   "outputs": [],
   "source": [
    "import matplotlib.pyplot as plt\n",
    "import numpy as np\n",
    "\n",
    "x = np.linspace(0,10,1000)\n",
    "y2 = np.sin(x**2)\n",
    "y1 = x**2\n",
    "\n",
    "# Initiate a figure with subplot axes\n",
    "fig, ax1 = plt.subplots()\n",
    "\n",
    "# Set the inset plot dimensions\n",
    "left, bottom, width, height = [0.22, 0.45, 0.3, 0.35]\n",
    "ax2 = fig.add_axes([left, bottom, width, height])\n",
    "\n",
    "# Draw the plots\n",
    "ax1.plot(x,y1)\n",
    "ax2.plot(x,y2)\n",
    "\n",
    "# Show the figure\n",
    "plt.show()"
   ]
  },
  {
   "cell_type": "markdown",
   "metadata": {},
   "source": [
    "# Annotations"
   ]
  },
  {
   "cell_type": "markdown",
   "metadata": {},
   "source": [
    "## Adding text annotations"
   ]
  },
  {
   "cell_type": "markdown",
   "metadata": {},
   "source": [
    "### Adding text and arrows with `axis.annotate`"
   ]
  },
  {
   "cell_type": "code",
   "execution_count": null,
   "metadata": {},
   "outputs": [],
   "source": [
    "import matplotlib.pyplot as plt\n",
    "import numpy as np\n",
    "\n",
    "# create 1000 equally spaced points between -10 and 10\n",
    "x = np.linspace(0, 10)\n",
    "\n",
    "# Prepare the data\n",
    "y1 = x\n",
    "y2 = 10-x\n",
    "\n",
    "# Plot the data\n",
    "fig, ax = plt.subplots()\n",
    "plt.plot(x,y1,label='Supply')\n",
    "plt.plot(x,y2,label='Demand')\n",
    "\n",
    "# Annotate the equilibrium point with arrow and text\n",
    "ax.annotate(\"Equilibrium\", xy=(5,5), xytext=(4,2), \\\n",
    "             fontsize=12, fontweight='semibold',\\\n",
    "             arrowprops=dict(linewidth=2, arrowstyle=\"->\"))\n",
    "\n",
    "# Label the axes\n",
    "plt.xlabel('Quantity',fontsize=12,fontweight='semibold')\n",
    "plt.ylabel('Price',fontsize=12,fontweight='semibold')\n",
    "\n",
    "# Style the plot to a common demand-supply graph\n",
    "ax.spines['top'].set_visible(False)\n",
    "ax.spines['right'].set_visible(False)\n",
    "\n",
    "plt.legend()\n",
    "plt.show()"
   ]
  },
  {
   "cell_type": "markdown",
   "metadata": {},
   "source": [
    "### Adding a text box with `axis.text`"
   ]
  },
  {
   "cell_type": "code",
   "execution_count": null,
   "metadata": {},
   "outputs": [],
   "source": [
    "import matplotlib.pyplot as plt\n",
    "import numpy as np\n",
    "\n",
    "# create 1000 equally spaced points between -10 and 10\n",
    "x = np.linspace(0, 10)\n",
    "\n",
    "# Prepare the data\n",
    "y1 = x\n",
    "y2 = 10-x\n",
    "\n",
    "# Plot the data\n",
    "fig, ax = plt.subplots()\n",
    "plt.plot(x,y1,label='Supply')\n",
    "plt.plot(x,y2,label='Demand')\n",
    "\n",
    "# Annotate the equilibrium point with arrow and text\n",
    "ax.annotate(\"Equilibrium\", xy=(5,5), xytext=(4,2), \\\n",
    "             fontsize=12, fontweight='semibold',\\\n",
    "             arrowprops=dict(linewidth=2, arrowstyle=\"->\"))\n",
    "\n",
    "# Label the axes\n",
    "plt.xlabel('Quantity',fontsize=12,fontweight='semibold')\n",
    "plt.ylabel('Price',fontsize=12,fontweight='semibold')\n",
    "\n",
    "# Style the plot to a common demand-supply graph\n",
    "ax.spines['top'].set_visible(False)\n",
    "ax.spines['right'].set_visible(False)\n",
    "\n",
    "ax.text(9, 9.6, \"Supply\", ha=\"center\", va=\"center\", size=16, rotation=33,color='C0')\n",
    "ax.text(9, 1.5, \"Demand\", ha=\"center\", va=\"center\", size=16, rotation=-33,color='C1')\n",
    "\n",
    "plt.show()"
   ]
  },
  {
   "cell_type": "markdown",
   "metadata": {},
   "source": [
    "### Adding arrows"
   ]
  },
  {
   "cell_type": "code",
   "execution_count": null,
   "metadata": {},
   "outputs": [],
   "source": [
    "import matplotlib.pyplot as plt\n",
    "import numpy as np\n",
    "\n",
    "# create 1000 equally spaced points between -10 and 10\n",
    "x = np.linspace(0, 10)\n",
    "\n",
    "# Prepare the data\n",
    "y1 = x\n",
    "y2 = 10-x\n",
    "\n",
    "# Plot the data\n",
    "fig, ax = plt.subplots()\n",
    "plt.plot(x,y1,label='Supply')\n",
    "plt.plot(x,y2,label='Demand')\n",
    "\n",
    "# Annotate the equilibrium point with arrow and text\n",
    "bbox_props = dict(boxstyle=\"rarrow\", fc=(0.8, 0.9, 0.9), ec=\"b\", lw=2)\n",
    "t = ax.text(2,5, \"Equilibrium\", ha=\"center\", va=\"center\", rotation=0,\n",
    "            size=12,bbox=bbox_props)\n",
    "bb = t.get_bbox_patch()\n",
    "bb.set_boxstyle(\"rarrow\", pad=0.6)\n",
    "\n",
    "# Label the axes\n",
    "plt.xlabel('Quantity',fontsize=12,fontweight='semibold')\n",
    "plt.ylabel('Price',fontsize=12,fontweight='semibold')\n",
    "\n",
    "# Style the plot to a common demand-supply graph\n",
    "ax.spines['top'].set_visible(False)\n",
    "ax.spines['right'].set_visible(False)\n",
    "\n",
    "ax.text(9, 9.6, \"Supply\", ha=\"center\", va=\"center\", size=16, rotation=33,color='C0')\n",
    "ax.text(9, 1.5, \"Demand\", ha=\"center\", va=\"center\", size=16, rotation=-33,color='C1')\n",
    "\n",
    "plt.show()"
   ]
  },
  {
   "cell_type": "markdown",
   "metadata": {},
   "source": [
    "### Labeling data values on a bar chart (Advanced - Optional)"
   ]
  },
  {
   "cell_type": "code",
   "execution_count": null,
   "metadata": {},
   "outputs": [],
   "source": [
    "import matplotlib.pyplot as plt\n",
    "from mpl_toolkits.axes_grid1.inset_locator import inset_axes\n",
    "\n",
    "# Prepare the bar value labelling function\n",
    "def autolabel(rects):\n",
    "    \"\"\"\n",
    "    Attach a text label above each bar displaying its height\n",
    "    Adapted from http://matplotlib.org/examples/api/barchart_demo.html\n",
    "    \"\"\"\n",
    "    for rect in rects:\n",
    "        height = rect.get_height()\n",
    "        ax1.text(rect.get_x() + rect.get_width()/2., 1.02*height,\n",
    "        \"{:,}\".format(float(height)),\n",
    "        ha='center', va='bottom',fontsize=18)\n",
    "\n",
    "# Prepare the data\n",
    "top10_arrivals_countries = ['CANADA','MEXICO','UNITED\\nKINGDOM',\\\n",
    "                            'JAPAN','CHINA','GERMANY','SOUTH\\nKOREA',\\\n",
    "                            'FRANCE','BRAZIL','AUSTRALIA']\n",
    "top10_arrivals_values = [16.625687, 15.378026, 3.934508, 2.999718,\\\n",
    "                         2.618737, 1.769498, 1.628563, 1.419409,\\\n",
    "                         1.393710, 1.136974]\n",
    "arrivals_countries = ['WESTERN\\nEUROPE','ASIA','SOUTH\\nAMERICA',\\\n",
    "                      'OCEANIA','CARIBBEAN','MIDDLE\\nEAST',\\\n",
    "                      'CENTRAL\\nAMERICA','EASTERN\\nEUROPE','AFRICA']\n",
    "arrivals_percent = [36.9,30.4,13.8,4.4,4.0,3.6,2.9,2.6,1.5]\n",
    "\n",
    "# Set up the figure and the main subplot\n",
    "fig, ax1 = plt.subplots(figsize=(20,12))\n",
    "\n",
    "# Draw the bar plot\n",
    "rects1 = ax1.bar(range(10),top10_arrivals_values, align='center',color='#3b5998')\n",
    "\n",
    "# Set spines to be invisible\n",
    "for spine in ax1.spines.values():\n",
    "    spine.set_visible(False)\n",
    "\n",
    "# Format ticks and labels\n",
    "plt.xticks(range(10),top10_arrivals_countries,fontsize=18)\n",
    "for tic in ax1.xaxis.get_major_ticks():\n",
    "    tic.tick1On = tic.tick2On = False\n",
    "plt.yticks(fontsize=18)\n",
    "plt.xlabel('Top 10 tourist generating countries',fontsize=24,fontweight='semibold')\n",
    "plt.ylabel('Arrivals (Million)',fontsize=24,fontweight='semibold')\n",
    "\n",
    "# Prepare the inset axes\n",
    "ax2 = inset_axes(ax1, width=6.5, height=6.5, loc=5)\n",
    "\n",
    "# Store the pie chart sectors, sample labels and value labels \n",
    "# Set the properties\n",
    "explode = (0.08, 0.08, 0.05, 0.05,0.05,0.05,0.05,0.05,0.05)\n",
    "patches, texts, autotexts = ax2.pie(arrivals_percent, \\\n",
    "                                    labels=arrivals_countries,\\\n",
    "                                    autopct='%1.1f%%', \\\n",
    "                                    shadow=True, startangle=180,\\\n",
    "                                    explode=explode, \\\n",
    "                                    counterclock=False, \\\n",
    "                                    pctdistance=0.72)\n",
    "\n",
    "# Set properties of text in pie chart\n",
    "for text in texts+autotexts:\n",
    "    text.set_fontsize(16)\n",
    "    text.set_fontweight('semibold')\n",
    "\n",
    "# Label bar values\n",
    "autolabel(rects1) \n",
    "    \n",
    "# Add a super title to all the subplots\n",
    "plt.suptitle('Non-Resident Arrivals to the US in 2016 (by Aug) by Regions',fontsize=36,color='navy',fontweight='bold')\n",
    "\n",
    "# Show the figure\n",
    "plt.show()"
   ]
  },
  {
   "cell_type": "markdown",
   "metadata": {},
   "source": [
    "## Adding graphical annotations (Advanced - Optional)"
   ]
  },
  {
   "cell_type": "markdown",
   "metadata": {},
   "source": [
    "### Adding shapes "
   ]
  },
  {
   "cell_type": "code",
   "execution_count": null,
   "metadata": {},
   "outputs": [],
   "source": [
    "import numpy as np\n",
    "from matplotlib.patches import Circle, Wedge, Polygon, Ellipse\n",
    "from matplotlib.collections import PatchCollection\n",
    "import matplotlib.pyplot as plt\n",
    "\n",
    "fig, ax = plt.subplots()\n",
    "\n",
    "patches = []\n",
    "\n",
    "# Full and ring sectors drawn by Wedge((x,y),r,deg1,deg2)\n",
    "leftstripe = Wedge((.46, .5), .15, 90,100)           # Full sector by default\n",
    "midstripe = Wedge((.5,.5), .15, 85,95)                      \n",
    "rightstripe = Wedge((.54,.5), .15, 80,90)\n",
    "lefteye = Wedge((.36, .46), .06, 0, 360, width=0.03)  # Ring sector drawn when width <1\n",
    "righteye = Wedge((.63, .46), .06, 0, 360, width=0.03)\n",
    "nose = Wedge((.5, .32), .08, 75,105, width=0.03)\n",
    "mouthleft = Wedge((.44, .4), .08, 240,320, width=0.01)\n",
    "mouthright = Wedge((.56, .4), .08, 220,300, width=0.01)\n",
    "patches += [leftstripe,midstripe,rightstripe,lefteye,righteye,nose,mouthleft,mouthright]\n",
    "\n",
    "# Circles\n",
    "leftiris = Circle((.36,.46),0.04)\n",
    "rightiris = Circle((.63,.46),0.04)\n",
    "patches += [leftiris,rightiris]\n",
    "\n",
    "# Polygons drawn by passing coordinates of vertices\n",
    "leftear = Polygon([[.2,.6],[.3,.8],[.4,.64]], True)\n",
    "rightear = Polygon([[.6,.64],[.7,.8],[.8,.6]], True)\n",
    "topleftwhisker = Polygon([[.01,.4],[.18,.38],[.17,.42]], True)\n",
    "bottomleftwhisker = Polygon([[.01,.3],[.18,.32],[.2,.28]], True)\n",
    "toprightwhisker = Polygon([[.99,.41],[.82,.39],[.82,.43]], True)\n",
    "bottomrightwhisker = Polygon([[.99,.31],[.82,.33],[.81,.29]], True)\n",
    "patches+=[leftear,rightear,topleftwhisker,bottomleftwhisker,toprightwhisker,bottomrightwhisker]\n",
    "\n",
    "# Ellipse drawn by Ellipse((x,y),width,height)\n",
    "body = Ellipse((0.5,-0.18),0.6,0.8)\n",
    "patches.append(body)\n",
    "\n",
    "# Draw the patches\n",
    "colors = 100*np.random.rand(len(patches)) # set random colors\n",
    "p = PatchCollection(patches, alpha=0.4)\n",
    "p.set_array(np.array(colors))\n",
    "ax.add_collection(p)\n",
    "\n",
    "# Show the figure\n",
    "plt.show()"
   ]
  },
  {
   "cell_type": "markdown",
   "metadata": {},
   "source": [
    "## Adding image annotations"
   ]
  },
  {
   "cell_type": "code",
   "execution_count": null,
   "metadata": {
    "scrolled": true
   },
   "outputs": [],
   "source": [
    "# https://www.nobelprize.org/nobel_prizes/lists/age.html\n",
    "import re\n",
    "prizes = {'Physics':[],'Chemistry':[],'Physiology or Medicine':[],'Economics':[],'Literature':[],'Peace':[]}\n",
    "\n",
    "curr_age = 0\n",
    "f = open('data/nobelbyage.txt')\n",
    "for line in f.readlines():\n",
    "    if 'Age' in line:\n",
    "        curr_age = int(re.search('Age (\\d+)',line).group(1))\n",
    "    elif len(line) > 0:\n",
    "        splitline = line.strip().rsplit(' ',1)\n",
    "        prize = splitline[0]\n",
    "        if prize in list(prizes):\n",
    "            year = int(splitline[1])\n",
    "            prizes[prize].append((year,curr_age))\n",
    "f.close()\n",
    "\n",
    "for prize in ['Physics','Chemistry','Physiology or Medicine','Economics','Literature','Peace']:\n",
    "    prizes[prize] = sorted(prizes[prize])"
   ]
  },
  {
   "cell_type": "code",
   "execution_count": null,
   "metadata": {
    "scrolled": true
   },
   "outputs": [],
   "source": [
    "import matplotlib as mpl\n",
    "import matplotlib.pyplot as plt\n",
    "import numpy as np\n",
    "from matplotlib.offsetbox import (OffsetImage,AnnotationBbox)\n",
    "import urllib\n",
    "\n",
    "\"\"\"\n",
    "List of all Nobel laureate by age\n",
    "https://www.nobelprize.org/nobel_prizes/lists/age.html\n",
    "Plot adapted from \"Why are Nobel Prize winners getting older?\" by Will Dahlgreen on BBC news\n",
    "http://www.bbc.com/news/science-environment-37578899\n",
    "\"\"\"\n",
    "\n",
    "mpl.style.use('seaborn')\n",
    "\n",
    "# A dictionary with the six fields as keys and tuples of years and ages of award received is prepared\n",
    "# Data can be downloaded from our Github repository\n",
    "# Prizes = {'Peace': [(2014, 17), (1976, 32), (2011, 32), ..., 'Chemistry':...}\n",
    "\n",
    "# Prepare the subplots\n",
    "fig, axarr = plt.subplots(2,3,sharex=True,sharey=True)\n",
    "plt.subplots_adjust(left=0, right=1, top=1.5, bottom=0)\n",
    "\n",
    "for i,prize in enumerate(['Physics','Chemistry','Physiology or Medicine','Economics','Literature','Peace']):\n",
    "    years = [x[0] for x in prizes[prize]]\n",
    "    ages = [x[1] for x in prizes[prize]]\n",
    "    a = int(i/3)  # subplot row index\n",
    "    b = i%3       # subplot column index\n",
    "    axarr[a,b].scatter(years,ages,s=2.5)\n",
    "    axarr[a,b].plot(years, np.poly1d(np.polyfit(years, ages, 3))(years),linewidth=2)\n",
    "    axarr[a,b].set_xlabel(prize,fontsize=16)\n",
    "\n",
    "# Annotate with photo of the youngest Nobel laureate\n",
    "img_fetch = urllib.request.urlopen(\"https://www.nobelprize.org/nobel_prizes/peace/laureates/2014/yousafzai_postcard.jpg\") # fetch the online image\n",
    "img = plt.imread(img_fetch, format='jpg')\n",
    "imagebox = OffsetImage(img, zoom=0.2)\n",
    "imagebox.image.axes = axarr[1,2]\n",
    "\n",
    "ab1 = AnnotationBbox(imagebox, (2014,16),\n",
    "                    xybox=(1920,28),\n",
    "                    xycoords='data',\n",
    "                    boxcoords='data',\n",
    "                    pad=0.5,\n",
    "                    arrowprops=dict(\n",
    "                    arrowstyle=\"->\",\n",
    "                    connectionstyle=\"angle,angleA=90,angleB=0,rad=3\")\n",
    "                    )\n",
    "\n",
    "axarr[1,2].add_artist(ab1)\n",
    "\n",
    "# Annotate with photo of the oldest Nobel laureate\n",
    "img_fetch = urllib.request.urlopen(\"http://www.nobelprize.org/nobel_prizes/economic-sciences/laureates/2007/hurwicz_postcard.jpg\")\n",
    "img = plt.imread(img_fetch, format='jpg')\n",
    "imagebox = OffsetImage(img, zoom=0.2)\n",
    "imagebox.image.axes = axarr[1,2]\n",
    "\n",
    "ab2 = AnnotationBbox(imagebox, (2007,89),\n",
    "                    xybox=(1930,60),\n",
    "                    xycoords='data',\n",
    "                    boxcoords='data',\n",
    "                    pad=0.5,\n",
    "                    arrowprops=dict(\n",
    "                    arrowstyle=\"->\",\n",
    "                    connectionstyle=\"angle,angleA=90,angleB=0,rad=3\")\n",
    "                    )\n",
    "axarr[1,0].add_artist(ab2)\n",
    "    \n",
    "# Show the figure\n",
    "plt.show()\n",
    "mpl.rcParams.update(mpl.rcParamsDefault)"
   ]
  },
  {
   "cell_type": "code",
   "execution_count": null,
   "metadata": {},
   "outputs": [],
   "source": []
  }
 ],
 "metadata": {
  "kernelspec": {
   "display_name": "Python 2",
   "language": "python",
   "name": "python2"
  },
  "language_info": {
   "codemirror_mode": {
    "name": "ipython",
    "version": 3
   },
   "file_extension": ".py",
   "mimetype": "text/x-python",
   "name": "python",
   "nbconvert_exporter": "python",
   "pygments_lexer": "ipython3",
   "version": "3.6.4"
  }
 },
 "nbformat": 4,
 "nbformat_minor": 2
}
